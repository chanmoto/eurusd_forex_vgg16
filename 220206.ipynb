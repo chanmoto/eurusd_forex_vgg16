{
  "nbformat": 4,
  "nbformat_minor": 0,
  "metadata": {
    "colab": {
      "name": "Untitled12.ipynb",
      "provenance": []
    },
    "kernelspec": {
      "name": "python3",
      "display_name": "Python 3"
    },
    "language_info": {
      "name": "python"
    }
  },
  "cells": [
    {
      "cell_type": "code",
      "source": [
        "にもき!pip install pandas_datareader\n",
        "!pip install --upgrade pandas\n",
        "!pip install mplfinance"
      ],
      "metadata": {
        "colab": {
          "base_uri": "https://localhost:8080/"
        },
        "id": "_OLJ_OZ9afBo",
        "outputId": "04f77b25-1f62-4d88-e8f1-e557086ab796"
      },
      "execution_count": 1,
      "outputs": [
        {
          "output_type": "stream",
          "name": "stdout",
          "text": [
            "Requirement already satisfied: pandas_datareader in /usr/local/lib/python3.7/dist-packages (0.9.0)\n",
            "Requirement already satisfied: requests>=2.19.0 in /usr/local/lib/python3.7/dist-packages (from pandas_datareader) (2.23.0)\n",
            "Requirement already satisfied: pandas>=0.23 in /usr/local/lib/python3.7/dist-packages (from pandas_datareader) (1.3.5)\n",
            "Requirement already satisfied: lxml in /usr/local/lib/python3.7/dist-packages (from pandas_datareader) (4.2.6)\n",
            "Requirement already satisfied: pytz>=2017.3 in /usr/local/lib/python3.7/dist-packages (from pandas>=0.23->pandas_datareader) (2018.9)\n",
            "Requirement already satisfied: python-dateutil>=2.7.3 in /usr/local/lib/python3.7/dist-packages (from pandas>=0.23->pandas_datareader) (2.8.2)\n",
            "Requirement already satisfied: numpy>=1.17.3 in /usr/local/lib/python3.7/dist-packages (from pandas>=0.23->pandas_datareader) (1.19.5)\n",
            "Requirement already satisfied: six>=1.5 in /usr/local/lib/python3.7/dist-packages (from python-dateutil>=2.7.3->pandas>=0.23->pandas_datareader) (1.15.0)\n",
            "Requirement already satisfied: chardet<4,>=3.0.2 in /usr/local/lib/python3.7/dist-packages (from requests>=2.19.0->pandas_datareader) (3.0.4)\n",
            "Requirement already satisfied: certifi>=2017.4.17 in /usr/local/lib/python3.7/dist-packages (from requests>=2.19.0->pandas_datareader) (2021.10.8)\n",
            "Requirement already satisfied: urllib3!=1.25.0,!=1.25.1,<1.26,>=1.21.1 in /usr/local/lib/python3.7/dist-packages (from requests>=2.19.0->pandas_datareader) (1.24.3)\n",
            "Requirement already satisfied: idna<3,>=2.5 in /usr/local/lib/python3.7/dist-packages (from requests>=2.19.0->pandas_datareader) (2.10)\n",
            "Requirement already satisfied: pandas in /usr/local/lib/python3.7/dist-packages (1.3.5)\n",
            "Requirement already satisfied: numpy>=1.17.3 in /usr/local/lib/python3.7/dist-packages (from pandas) (1.19.5)\n",
            "Requirement already satisfied: pytz>=2017.3 in /usr/local/lib/python3.7/dist-packages (from pandas) (2018.9)\n",
            "Requirement already satisfied: python-dateutil>=2.7.3 in /usr/local/lib/python3.7/dist-packages (from pandas) (2.8.2)\n",
            "Requirement already satisfied: six>=1.5 in /usr/local/lib/python3.7/dist-packages (from python-dateutil>=2.7.3->pandas) (1.15.0)\n",
            "Collecting mplfinance\n",
            "  Downloading mplfinance-0.12.8b9-py3-none-any.whl (70 kB)\n",
            "\u001b[K     |████████████████████████████████| 70 kB 2.7 MB/s \n",
            "\u001b[?25hRequirement already satisfied: matplotlib in /usr/local/lib/python3.7/dist-packages (from mplfinance) (3.2.2)\n",
            "Requirement already satisfied: pandas in /usr/local/lib/python3.7/dist-packages (from mplfinance) (1.3.5)\n",
            "Requirement already satisfied: python-dateutil>=2.1 in /usr/local/lib/python3.7/dist-packages (from matplotlib->mplfinance) (2.8.2)\n",
            "Requirement already satisfied: pyparsing!=2.0.4,!=2.1.2,!=2.1.6,>=2.0.1 in /usr/local/lib/python3.7/dist-packages (from matplotlib->mplfinance) (3.0.7)\n",
            "Requirement already satisfied: numpy>=1.11 in /usr/local/lib/python3.7/dist-packages (from matplotlib->mplfinance) (1.19.5)\n",
            "Requirement already satisfied: kiwisolver>=1.0.1 in /usr/local/lib/python3.7/dist-packages (from matplotlib->mplfinance) (1.3.2)\n",
            "Requirement already satisfied: cycler>=0.10 in /usr/local/lib/python3.7/dist-packages (from matplotlib->mplfinance) (0.11.0)\n",
            "Requirement already satisfied: six>=1.5 in /usr/local/lib/python3.7/dist-packages (from python-dateutil>=2.1->matplotlib->mplfinance) (1.15.0)\n",
            "Requirement already satisfied: pytz>=2017.3 in /usr/local/lib/python3.7/dist-packages (from pandas->mplfinance) (2018.9)\n",
            "Installing collected packages: mplfinance\n",
            "Successfully installed mplfinance-0.12.8b9\n"
          ]
        }
      ]
    },
    {
      "cell_type": "code",
      "execution_count": 2,
      "metadata": {
        "id": "bp8bRzhFaVVv"
      },
      "outputs": [],
      "source": [
        "import pandas as pd\n",
        "import datetime as dt\n",
        "from pandas_datareader import data\n",
        "import mplfinance as mpf\n",
        "import torch\n",
        "from torchvision.datasets import ImageFolder\n",
        "from torchvision import models, transforms\n",
        "import torch.nn as nn\n",
        "import numpy as np\n",
        "\n",
        "import os\n",
        "os.environ['KMP_DUPLICATE_LIB_OK']='True'\n",
        "\n",
        "#apikey = '取得したAPIキー'\n",
        "apikey = 'KDDTQTNE9OTMD4V4.'\n",
        "symbol = 'EURUSD'\n",
        "\n",
        "start = dt.date(2021,1,1)\n",
        "end = dt.date(2022,2,3)\n",
        "\n",
        "df = data.DataReader(symbol,'av-daily',start,end, api_key=apikey)"
      ]
    },
    {
      "cell_type": "code",
      "source": [
        "wsize=80 #サンプル期間\n",
        "after=10 #最終レコード＋α\n",
        "change_large = 4 #変化大　4%\n",
        "\n",
        "df.index = pd.DatetimeIndex(df.index)\n",
        "\n",
        "\n",
        "alldata =[]\n",
        "\n",
        "for time in range(len(df)-wsize-1):\n",
        "    try:\n",
        "        dfspan = df[time:time+wsize]\n",
        "        alldata.append({\"df\":dfspan,\"date\":dfspan.tail(1)})\n",
        "    except:\n",
        "        pass"
      ],
      "metadata": {
        "id": "GSPmDU-PaWZu"
      },
      "execution_count": 3,
      "outputs": []
    },
    {
      "cell_type": "code",
      "source": [
        "dfspan"
      ],
      "metadata": {
        "colab": {
          "base_uri": "https://localhost:8080/",
          "height": 424
        },
        "id": "6gFpPrgcacB-",
        "outputId": "edea5e88-6961-4df4-9912-3b796fdcddee"
      },
      "execution_count": 4,
      "outputs": [
        {
          "output_type": "execute_result",
          "data": {
            "text/html": [
              "\n",
              "  <div id=\"df-d2990251-9d67-4211-9c96-363b83b73220\">\n",
              "    <div class=\"colab-df-container\">\n",
              "      <div>\n",
              "<style scoped>\n",
              "    .dataframe tbody tr th:only-of-type {\n",
              "        vertical-align: middle;\n",
              "    }\n",
              "\n",
              "    .dataframe tbody tr th {\n",
              "        vertical-align: top;\n",
              "    }\n",
              "\n",
              "    .dataframe thead th {\n",
              "        text-align: right;\n",
              "    }\n",
              "</style>\n",
              "<table border=\"1\" class=\"dataframe\">\n",
              "  <thead>\n",
              "    <tr style=\"text-align: right;\">\n",
              "      <th></th>\n",
              "      <th>open</th>\n",
              "      <th>high</th>\n",
              "      <th>low</th>\n",
              "      <th>close</th>\n",
              "      <th>volume</th>\n",
              "    </tr>\n",
              "  </thead>\n",
              "  <tbody>\n",
              "    <tr>\n",
              "      <th>2021-10-13</th>\n",
              "      <td>1.1530</td>\n",
              "      <td>1.1599</td>\n",
              "      <td>1.1527</td>\n",
              "      <td>1.1597</td>\n",
              "      <td>0</td>\n",
              "    </tr>\n",
              "    <tr>\n",
              "      <th>2021-10-14</th>\n",
              "      <td>1.1597</td>\n",
              "      <td>1.1624</td>\n",
              "      <td>1.1582</td>\n",
              "      <td>1.1598</td>\n",
              "      <td>0</td>\n",
              "    </tr>\n",
              "    <tr>\n",
              "      <th>2021-10-15</th>\n",
              "      <td>1.1597</td>\n",
              "      <td>1.1619</td>\n",
              "      <td>1.1586</td>\n",
              "      <td>1.1600</td>\n",
              "      <td>0</td>\n",
              "    </tr>\n",
              "    <tr>\n",
              "      <th>2021-10-18</th>\n",
              "      <td>1.1599</td>\n",
              "      <td>1.1622</td>\n",
              "      <td>1.1570</td>\n",
              "      <td>1.1609</td>\n",
              "      <td>0</td>\n",
              "    </tr>\n",
              "    <tr>\n",
              "      <th>2021-10-19</th>\n",
              "      <td>1.1609</td>\n",
              "      <td>1.1669</td>\n",
              "      <td>1.1607</td>\n",
              "      <td>1.1629</td>\n",
              "      <td>0</td>\n",
              "    </tr>\n",
              "    <tr>\n",
              "      <th>...</th>\n",
              "      <td>...</td>\n",
              "      <td>...</td>\n",
              "      <td>...</td>\n",
              "      <td>...</td>\n",
              "      <td>...</td>\n",
              "    </tr>\n",
              "    <tr>\n",
              "      <th>2022-01-26</th>\n",
              "      <td>1.1299</td>\n",
              "      <td>1.1311</td>\n",
              "      <td>1.1234</td>\n",
              "      <td>1.1241</td>\n",
              "      <td>0</td>\n",
              "    </tr>\n",
              "    <tr>\n",
              "      <th>2022-01-27</th>\n",
              "      <td>1.1241</td>\n",
              "      <td>1.1243</td>\n",
              "      <td>1.1130</td>\n",
              "      <td>1.1142</td>\n",
              "      <td>0</td>\n",
              "    </tr>\n",
              "    <tr>\n",
              "      <th>2022-01-28</th>\n",
              "      <td>1.1143</td>\n",
              "      <td>1.1174</td>\n",
              "      <td>1.1120</td>\n",
              "      <td>1.1146</td>\n",
              "      <td>0</td>\n",
              "    </tr>\n",
              "    <tr>\n",
              "      <th>2022-01-31</th>\n",
              "      <td>1.1141</td>\n",
              "      <td>1.1248</td>\n",
              "      <td>1.1137</td>\n",
              "      <td>1.1233</td>\n",
              "      <td>0</td>\n",
              "    </tr>\n",
              "    <tr>\n",
              "      <th>2022-02-01</th>\n",
              "      <td>1.1235</td>\n",
              "      <td>1.1279</td>\n",
              "      <td>1.1219</td>\n",
              "      <td>1.1270</td>\n",
              "      <td>0</td>\n",
              "    </tr>\n",
              "  </tbody>\n",
              "</table>\n",
              "<p>80 rows × 5 columns</p>\n",
              "</div>\n",
              "      <button class=\"colab-df-convert\" onclick=\"convertToInteractive('df-d2990251-9d67-4211-9c96-363b83b73220')\"\n",
              "              title=\"Convert this dataframe to an interactive table.\"\n",
              "              style=\"display:none;\">\n",
              "        \n",
              "  <svg xmlns=\"http://www.w3.org/2000/svg\" height=\"24px\"viewBox=\"0 0 24 24\"\n",
              "       width=\"24px\">\n",
              "    <path d=\"M0 0h24v24H0V0z\" fill=\"none\"/>\n",
              "    <path d=\"M18.56 5.44l.94 2.06.94-2.06 2.06-.94-2.06-.94-.94-2.06-.94 2.06-2.06.94zm-11 1L8.5 8.5l.94-2.06 2.06-.94-2.06-.94L8.5 2.5l-.94 2.06-2.06.94zm10 10l.94 2.06.94-2.06 2.06-.94-2.06-.94-.94-2.06-.94 2.06-2.06.94z\"/><path d=\"M17.41 7.96l-1.37-1.37c-.4-.4-.92-.59-1.43-.59-.52 0-1.04.2-1.43.59L10.3 9.45l-7.72 7.72c-.78.78-.78 2.05 0 2.83L4 21.41c.39.39.9.59 1.41.59.51 0 1.02-.2 1.41-.59l7.78-7.78 2.81-2.81c.8-.78.8-2.07 0-2.86zM5.41 20L4 18.59l7.72-7.72 1.47 1.35L5.41 20z\"/>\n",
              "  </svg>\n",
              "      </button>\n",
              "      \n",
              "  <style>\n",
              "    .colab-df-container {\n",
              "      display:flex;\n",
              "      flex-wrap:wrap;\n",
              "      gap: 12px;\n",
              "    }\n",
              "\n",
              "    .colab-df-convert {\n",
              "      background-color: #E8F0FE;\n",
              "      border: none;\n",
              "      border-radius: 50%;\n",
              "      cursor: pointer;\n",
              "      display: none;\n",
              "      fill: #1967D2;\n",
              "      height: 32px;\n",
              "      padding: 0 0 0 0;\n",
              "      width: 32px;\n",
              "    }\n",
              "\n",
              "    .colab-df-convert:hover {\n",
              "      background-color: #E2EBFA;\n",
              "      box-shadow: 0px 1px 2px rgba(60, 64, 67, 0.3), 0px 1px 3px 1px rgba(60, 64, 67, 0.15);\n",
              "      fill: #174EA6;\n",
              "    }\n",
              "\n",
              "    [theme=dark] .colab-df-convert {\n",
              "      background-color: #3B4455;\n",
              "      fill: #D2E3FC;\n",
              "    }\n",
              "\n",
              "    [theme=dark] .colab-df-convert:hover {\n",
              "      background-color: #434B5C;\n",
              "      box-shadow: 0px 1px 3px 1px rgba(0, 0, 0, 0.15);\n",
              "      filter: drop-shadow(0px 1px 2px rgba(0, 0, 0, 0.3));\n",
              "      fill: #FFFFFF;\n",
              "    }\n",
              "  </style>\n",
              "\n",
              "      <script>\n",
              "        const buttonEl =\n",
              "          document.querySelector('#df-d2990251-9d67-4211-9c96-363b83b73220 button.colab-df-convert');\n",
              "        buttonEl.style.display =\n",
              "          google.colab.kernel.accessAllowed ? 'block' : 'none';\n",
              "\n",
              "        async function convertToInteractive(key) {\n",
              "          const element = document.querySelector('#df-d2990251-9d67-4211-9c96-363b83b73220');\n",
              "          const dataTable =\n",
              "            await google.colab.kernel.invokeFunction('convertToInteractive',\n",
              "                                                     [key], {});\n",
              "          if (!dataTable) return;\n",
              "\n",
              "          const docLinkHtml = 'Like what you see? Visit the ' +\n",
              "            '<a target=\"_blank\" href=https://colab.research.google.com/notebooks/data_table.ipynb>data table notebook</a>'\n",
              "            + ' to learn more about interactive tables.';\n",
              "          element.innerHTML = '';\n",
              "          dataTable['output_type'] = 'display_data';\n",
              "          await google.colab.output.renderOutput(dataTable, element);\n",
              "          const docLink = document.createElement('div');\n",
              "          docLink.innerHTML = docLinkHtml;\n",
              "          element.appendChild(docLink);\n",
              "        }\n",
              "      </script>\n",
              "    </div>\n",
              "  </div>\n",
              "  "
            ],
            "text/plain": [
              "              open    high     low   close  volume\n",
              "2021-10-13  1.1530  1.1599  1.1527  1.1597       0\n",
              "2021-10-14  1.1597  1.1624  1.1582  1.1598       0\n",
              "2021-10-15  1.1597  1.1619  1.1586  1.1600       0\n",
              "2021-10-18  1.1599  1.1622  1.1570  1.1609       0\n",
              "2021-10-19  1.1609  1.1669  1.1607  1.1629       0\n",
              "...            ...     ...     ...     ...     ...\n",
              "2022-01-26  1.1299  1.1311  1.1234  1.1241       0\n",
              "2022-01-27  1.1241  1.1243  1.1130  1.1142       0\n",
              "2022-01-28  1.1143  1.1174  1.1120  1.1146       0\n",
              "2022-01-31  1.1141  1.1248  1.1137  1.1233       0\n",
              "2022-02-01  1.1235  1.1279  1.1219  1.1270       0\n",
              "\n",
              "[80 rows x 5 columns]"
            ]
          },
          "metadata": {},
          "execution_count": 4
        }
      ]
    },
    {
      "cell_type": "code",
      "source": [
        "a = np.array([x for x in dfspan['close']])\n",
        "m = np.outer(a, a).astype(np.float32)\n",
        "print(m)"
      ],
      "metadata": {
        "colab": {
          "base_uri": "https://localhost:8080/"
        },
        "id": "lHfvtLsXa0if",
        "outputId": "2eb36bfe-459b-4f7d-8db8-ec87f519be8e"
      },
      "execution_count": 18,
      "outputs": [
        {
          "output_type": "stream",
          "name": "stdout",
          "text": [
            "[[1.3449041 1.34502   1.345252  ... 1.2926016 1.302691  1.3069819]\n",
            " [1.34502   1.345136  1.345368  ... 1.292713  1.3028034 1.3070946]\n",
            " [1.345252  1.345368  1.3456    ... 1.292936  1.303028  1.30732  ]\n",
            " ...\n",
            " [1.2926016 1.292713  1.292936  ... 1.2423332 1.2520301 1.2561542]\n",
            " [1.302691  1.3028034 1.303028  ... 1.2520301 1.2618029 1.2659591]\n",
            " [1.3069819 1.3070946 1.30732   ... 1.2561542 1.2659591 1.270129 ]]\n"
          ]
        }
      ]
    },
    {
      "cell_type": "code",
      "source": [
        "m.shape\n",
        "print(np.max(m),\":\",np.min(m))"
      ],
      "metadata": {
        "colab": {
          "base_uri": "https://localhost:8080/"
        },
        "id": "OtbVdLH8dm63",
        "outputId": "ad77deb9-e7ce-4b80-ae4d-4a444215b235"
      },
      "execution_count": 16,
      "outputs": [
        {
          "output_type": "stream",
          "name": "stdout",
          "text": [
            "1.3644576 : 1.2414416\n"
          ]
        }
      ]
    },
    {
      "cell_type": "code",
      "source": [
        "plt.imshow(m, vmin=np.min(m), vmax=np.max(m), interpolation='none')\n",
        "plt.show()"
      ],
      "metadata": {
        "colab": {
          "base_uri": "https://localhost:8080/",
          "height": 268
        },
        "id": "_-ARsFgSfOln",
        "outputId": "c9f8afa8-a8c9-449b-c5ef-0796c8b5038d"
      },
      "execution_count": 17,
      "outputs": [
        {
          "output_type": "display_data",
          "data": {
            "image/png": "[encoded data removed]",
            "text/plain": [
              "<Figure size 432x288 with 1 Axes>"
            ]
          },
          "metadata": {
            "needs_background": "light"
          }
        }
      ]
    },
    {
      "cell_type": "code",
      "source": [
        "def min_max(x, axis=None):\n",
        "    min = x.min(axis=axis, keepdims=True)\n",
        "    max = x.max(axis=axis, keepdims=True)\n",
        "    result = (x-min)/(max-min)\n",
        "    return result"
      ],
      "metadata": {
        "id": "VyUNauyBPg5J"
      },
      "execution_count": 72,
      "outputs": []
    },
    {
      "cell_type": "code",
      "source": [
        "from PIL import Image\n",
        "\n",
        "def min_max(x, axis=None):\n",
        "    min = x.min(axis=axis, keepdims=True)\n",
        "    max = x.max(axis=axis, keepdims=True)\n",
        "    result = (x-min)/(max-min)\n",
        "    return result\n",
        "\n",
        "a = np.array([x for x in dfspan['close']])\n",
        "b = np.array([x for x in dfspan['high']])\n",
        "c = np.array([x for x in dfspan['low']])\n",
        "m = min_max(np.outer(a,a).astype(np.float32))\n",
        "n = min_max(np.outer(a-b,b-a).astype(np.float32))\n",
        "o = min_max(np.outer(a-c,c-a).astype(np.float32))\n",
        "te = np.stack([m,n,o])\n",
        "tmp = torch.from_numpy(te).clone()"
      ],
      "metadata": {
        "id": "xwIkvntzgJcn"
      },
      "execution_count": 109,
      "outputs": []
    },
    {
      "cell_type": "code",
      "source": [
        "def get_concat_v(im1, im2,im3,im4):\n",
        "    dst = Image.new('RGB', (im1.width, im1.height*4))\n",
        "    dst.paste(im1, (0, 0))\n",
        "    dst.paste(im2, (0, im1.height))\n",
        "    dst.paste(im3, (0, im1.height*2))\n",
        "    dst.paste(im4, (0, im1.height*3))\n",
        "    return dst"
      ],
      "metadata": {
        "id": "pL2J9Bhnb03G"
      },
      "execution_count": 119,
      "outputs": []
    },
    {
      "cell_type": "code",
      "source": [
        "img_pil =  transforms.ToPILImage(mode='RGB')(tmp)\n",
        "r, g, b = img_pil.split()\n",
        "all = get_concat_v(img_pil,r,g,b)\n",
        "plt.imshow(all)\n",
        "plt.show()"
      ],
      "metadata": {
        "colab": {
          "base_uri": "https://localhost:8080/",
          "height": 269
        },
        "id": "tfA0aEkPUnza",
        "outputId": "1a3ce687-3ad2-4175-ed74-b2b0ace86625"
      },
      "execution_count": 120,
      "outputs": [
        {
          "output_type": "display_data",
          "data": {
            "image/png": "[encoded data removed]",
            "text/plain": [
              "<Figure size 432x288 with 1 Axes>"
            ]
          },
          "metadata": {
            "needs_background": "light"
          }
        }
      ]
    },
    {
      "cell_type": "code",
      "source": [
        ""
      ],
      "metadata": {
        "id": "4qXdZPbCau4S"
      },
      "execution_count": null,
      "outputs": []
    }
  ]
}