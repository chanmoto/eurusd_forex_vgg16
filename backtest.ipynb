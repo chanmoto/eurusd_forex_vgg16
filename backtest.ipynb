{
 "cells": [
  {
   "cell_type": "code",
   "execution_count": 1,
   "id": "2925127f",
   "metadata": {},
   "outputs": [
    {
     "name": "stdout",
     "output_type": "stream",
     "text": [
      "Requirement already satisfied: pandas_datareader in c:\\users\\user\\anaconda3\\lib\\site-packages (0.10.0)\n",
      "Requirement already satisfied: requests>=2.19.0 in c:\\users\\user\\anaconda3\\lib\\site-packages (from pandas_datareader) (2.26.0)\n",
      "Requirement already satisfied: pandas>=0.23 in c:\\users\\user\\anaconda3\\lib\\site-packages (from pandas_datareader) (1.4.0)\n",
      "Requirement already satisfied: lxml in c:\\users\\user\\anaconda3\\lib\\site-packages (from pandas_datareader) (4.6.3)\n",
      "Requirement already satisfied: numpy>=1.18.5 in c:\\users\\user\\anaconda3\\lib\\site-packages (from pandas>=0.23->pandas_datareader) (1.20.3)\n",
      "Requirement already satisfied: python-dateutil>=2.8.1 in c:\\users\\user\\anaconda3\\lib\\site-packages (from pandas>=0.23->pandas_datareader) (2.8.2)\n",
      "Requirement already satisfied: pytz>=2020.1 in c:\\users\\user\\anaconda3\\lib\\site-packages (from pandas>=0.23->pandas_datareader) (2021.3)\n",
      "Requirement already satisfied: six>=1.5 in c:\\users\\user\\anaconda3\\lib\\site-packages (from python-dateutil>=2.8.1->pandas>=0.23->pandas_datareader) (1.16.0)\n",
      "Requirement already satisfied: urllib3<1.27,>=1.21.1 in c:\\users\\user\\anaconda3\\lib\\site-packages (from requests>=2.19.0->pandas_datareader) (1.26.7)\n",
      "Requirement already satisfied: idna<4,>=2.5 in c:\\users\\user\\anaconda3\\lib\\site-packages (from requests>=2.19.0->pandas_datareader) (3.2)\n",
      "Requirement already satisfied: charset-normalizer~=2.0.0 in c:\\users\\user\\anaconda3\\lib\\site-packages (from requests>=2.19.0->pandas_datareader) (2.0.4)\n",
      "Requirement already satisfied: certifi>=2017.4.17 in c:\\users\\user\\anaconda3\\lib\\site-packages (from requests>=2.19.0->pandas_datareader) (2021.10.8)\n"
     ]
    },
    {
     "name": "stderr",
     "output_type": "stream",
     "text": [
      "WARNING: Ignoring invalid distribution -orch (c:\\users\\user\\anaconda3\\lib\\site-packages)\n",
      "WARNING: Ignoring invalid distribution -orch (c:\\users\\user\\anaconda3\\lib\\site-packages)\n",
      "WARNING: Ignoring invalid distribution -orch (c:\\users\\user\\anaconda3\\lib\\site-packages)\n",
      "WARNING: Ignoring invalid distribution -orch (c:\\users\\user\\anaconda3\\lib\\site-packages)\n",
      "WARNING: Ignoring invalid distribution -orch (c:\\users\\user\\anaconda3\\lib\\site-packages)\n",
      "WARNING: Ignoring invalid distribution -orch (c:\\users\\user\\anaconda3\\lib\\site-packages)\n"
     ]
    },
    {
     "name": "stdout",
     "output_type": "stream",
     "text": [
      "Requirement already satisfied: pandas in c:\\users\\user\\anaconda3\\lib\\site-packages (1.4.0)\n",
      "Requirement already satisfied: pytz>=2020.1 in c:\\users\\user\\anaconda3\\lib\\site-packages (from pandas) (2021.3)\n",
      "Requirement already satisfied: numpy>=1.18.5 in c:\\users\\user\\anaconda3\\lib\\site-packages (from pandas) (1.20.3)\n",
      "Requirement already satisfied: python-dateutil>=2.8.1 in c:\\users\\user\\anaconda3\\lib\\site-packages (from pandas) (2.8.2)\n",
      "Requirement already satisfied: six>=1.5 in c:\\users\\user\\anaconda3\\lib\\site-packages (from python-dateutil>=2.8.1->pandas) (1.16.0)\n"
     ]
    },
    {
     "name": "stderr",
     "output_type": "stream",
     "text": [
      "WARNING: Ignoring invalid distribution -orch (c:\\users\\user\\anaconda3\\lib\\site-packages)\n",
      "WARNING: Ignoring invalid distribution -orch (c:\\users\\user\\anaconda3\\lib\\site-packages)\n",
      "WARNING: Ignoring invalid distribution -orch (c:\\users\\user\\anaconda3\\lib\\site-packages)\n",
      "WARNING: Ignoring invalid distribution -orch (c:\\users\\user\\anaconda3\\lib\\site-packages)\n",
      "WARNING: Ignoring invalid distribution -orch (c:\\users\\user\\anaconda3\\lib\\site-packages)\n",
      "WARNING: Ignoring invalid distribution -orch (c:\\users\\user\\anaconda3\\lib\\site-packages)\n"
     ]
    }
   ],
   "source": [
    "!pip install pandas_datareader\n",
    "!pip install --upgrade pandas"
   ]
  },
  {
   "cell_type": "code",
   "execution_count": 2,
   "id": "22815f39",
   "metadata": {},
   "outputs": [],
   "source": [
    "import pandas as pd\n",
    "import datetime as dt\n",
    "from pandas_datareader import data\n",
    "import mplfinance as mpf\n",
    "\n",
    "import os\n",
    "os.environ['KMP_DUPLICATE_LIB_OK']='True'\n",
    "\n",
    "#apikey = '取得したAPIキー'\n",
    "apikey = 'KDDTQTNE9OTMD4V4.'\n",
    "symbol = 'EURUSD'\n",
    "\n",
    "start = dt.date(2021,1,1)\n",
    "end = dt.date(2022,2,3)\n",
    "\n",
    "df = data.DataReader(symbol,'av-daily',start,end, api_key=apikey)"
   ]
  },
  {
   "cell_type": "code",
   "execution_count": 3,
   "id": "d44fdb21",
   "metadata": {},
   "outputs": [],
   "source": [
    "df['volume']=0.1 "
   ]
  },
  {
   "cell_type": "code",
   "execution_count": 4,
   "id": "952cf8e2",
   "metadata": {},
   "outputs": [],
   "source": [
    "import numpy\n",
    "#df = df.apply(numpy.log)\n",
    "from scipy.stats import boxcox\n",
    "df2,_ = boxcox(df['close'])"
   ]
  },
  {
   "cell_type": "code",
   "execution_count": 5,
   "id": "f208c255",
   "metadata": {},
   "outputs": [],
   "source": [
    "df=df.assign(open=df2,high=df2,low=df2,close=df2)"
   ]
  },
  {
   "cell_type": "code",
   "execution_count": 6,
   "id": "72f1b6db",
   "metadata": {},
   "outputs": [],
   "source": [
    "wsize=80 #サンプル期間\n",
    "after=10 #最終レコード＋α\n",
    "change_large = 4 #変化大　4%"
   ]
  },
  {
   "cell_type": "code",
   "execution_count": 7,
   "id": "f78cd2b1",
   "metadata": {},
   "outputs": [],
   "source": [
    "import pdb\n",
    "df.index = pd.DatetimeIndex(df.index)\n",
    "\n",
    "alldata =[]\n",
    "\n",
    "for time in range(len(df)-wsize-1):\n",
    "    try:\n",
    "        dfspan = df[time:time+wsize]\n",
    "        alldata.append({\"df\":dfspan,\"date\":dfspan.tail(1)})\n",
    "    except:\n",
    "        pass"
   ]
  },
  {
   "cell_type": "code",
   "execution_count": 8,
   "id": "80bccae1",
   "metadata": {},
   "outputs": [],
   "source": [
    "class ImageTransform():\n",
    "  def __init__(self, mean, std):\n",
    "    self.data_transform = transforms.Compose([\n",
    "    transforms.CenterCrop(224),\n",
    "    transforms.ToTensor(),\n",
    "    transforms.Normalize(mean, std)\n",
    "    ])\n",
    "\n",
    "  def __call__(self, img):\n",
    "    return self.data_transform(img)"
   ]
  },
  {
   "cell_type": "code",
   "execution_count": 59,
   "id": "c41441ff",
   "metadata": {},
   "outputs": [],
   "source": [
    "import torch\n",
    "from torchvision.datasets import ImageFolder\n",
    "import torch.utils.data as data\n",
    "from torchvision import models, transforms\n",
    "import torch.nn as nn\n",
    "\n",
    "model = Model()\n",
    "model.load_state_dict(torch.load('model_state.pth'))\n",
    "\n",
    "#画像データをImageFolderを使って取込みする\n",
    "mean=[0.485, 0.456, 0.406]\n",
    "std=[0.229, 0.224, 0.225]\n",
    "new_dir_path = 'predict'\n",
    "\n",
    "sma_s= 15\n",
    "sma_m= 30\n",
    "\n",
    "cs  = mpf.make_mpf_style(base_mpl_style='dark_background',gridcolor=\"#000000\",mavcolors=['#00ff00','#0000ff'], facecolor=\"#000000\")"
   ]
  },
  {
   "cell_type": "code",
   "execution_count": 60,
   "id": "657efdad",
   "metadata": {},
   "outputs": [],
   "source": [
    "def Imagesrc(datestr):\n",
    "    #datestr = \"2022-01-31\"\n",
    "    search_df = [x['df'] for x in alldata if x['date'].index == datestr]\n",
    "    mpf.plot(search_df[0],savefig= new_dir_path + '/0/predict.png',mav=(sma_s,sma_m),figsize=(2.5,2.5), type='line',\\\n",
    "             figratio=(12,4),style=cs,axisoff=True,\\\n",
    "             linecolor='#ff0000',tight_layout=True)\n",
    "    return ImageFolder( new_dir_path, transform = ImageTransform(mean, std))"
   ]
  },
  {
   "cell_type": "code",
   "execution_count": 61,
   "id": "7c6dbfbb",
   "metadata": {},
   "outputs": [],
   "source": [
    "img = Imagesrc(\"2022-01-31\")\n",
    "#ImageFolderで取り込んだ画像からデータローダーを作成する\n",
    "predict_dataloader = data.DataLoader(img)"
   ]
  },
  {
   "cell_type": "code",
   "execution_count": 62,
   "id": "951abaed",
   "metadata": {},
   "outputs": [
    {
     "ename": "TypeError",
     "evalue": "'collections.OrderedDict' object is not callable",
     "output_type": "error",
     "traceback": [
      "\u001b[1;31m---------------------------------------------------------------------------\u001b[0m",
      "\u001b[1;31mTypeError\u001b[0m                                 Traceback (most recent call last)",
      "\u001b[1;32m~\\AppData\\Local\\Temp/ipykernel_20388/4018491032.py\u001b[0m in \u001b[0;36m<module>\u001b[1;34m\u001b[0m\n\u001b[0;32m      3\u001b[0m     \u001b[1;32mbreak\u001b[0m\u001b[1;33m\u001b[0m\u001b[1;33m\u001b[0m\u001b[0m\n\u001b[0;32m      4\u001b[0m \u001b[1;33m\u001b[0m\u001b[0m\n\u001b[1;32m----> 5\u001b[1;33m \u001b[0mresult\u001b[0m \u001b[1;33m=\u001b[0m \u001b[0mvgg16\u001b[0m\u001b[1;33m(\u001b[0m\u001b[0mimg_batch\u001b[0m\u001b[1;33m)\u001b[0m\u001b[1;33m\u001b[0m\u001b[1;33m\u001b[0m\u001b[0m\n\u001b[0m\u001b[0;32m      6\u001b[0m \u001b[0mprint\u001b[0m\u001b[1;33m(\u001b[0m\u001b[0mtype\u001b[0m\u001b[1;33m(\u001b[0m\u001b[0mresult\u001b[0m\u001b[1;33m)\u001b[0m\u001b[1;33m)\u001b[0m\u001b[1;33m\u001b[0m\u001b[1;33m\u001b[0m\u001b[0m\n\u001b[0;32m      7\u001b[0m \u001b[1;33m\u001b[0m\u001b[0m\n",
      "\u001b[1;31mTypeError\u001b[0m: 'collections.OrderedDict' object is not callable"
     ]
    }
   ],
   "source": [
    "for x, t in predict_dataloader:\n",
    "    img_batch=x\n",
    "    break\n",
    "\n",
    "result = model(img_batch)\n",
    "print(type(result))\n",
    "\n",
    "idx = torch.argmax(result[0])\n",
    "print(idx)\n"
   ]
  },
  {
   "cell_type": "code",
   "execution_count": null,
   "id": "4496b126",
   "metadata": {},
   "outputs": [],
   "source": [
    "!pip install backtesting"
   ]
  },
  {
   "cell_type": "code",
   "execution_count": null,
   "id": "bc09f2df",
   "metadata": {},
   "outputs": [],
   "source": [
    "class VGG16EVA(Strategy):\n",
    "    n1 = 10 # 短期SMA\n",
    "    n2 = 30 # 長期SMA\n",
    "\n",
    "    def init(self):\n",
    "        self.sma1 = self.I(SMA, self.data.Close, self.n1) \n",
    "        self.sma2 = self.I(SMA, self.data.Close, self.n2)\n",
    "\n",
    "    def next(self): #チャートデータの行ごとに呼び出される\n",
    "        if crossover(self.sma1, self.sma2): #sma1がsma2を上回った時\n",
    "            self.buy() # 買い\n",
    "        elif crossover(self.sma2, self.sma1):\n",
    "            self.position.close() # 売り\n",
    "            \n",
    "bt = Backtest(\n",
    "    datadf, # チャートデータ\n",
    "    VGG16EVA, # 売買戦略\n",
    "    cash=1000, # 最初の所持金\n",
    "    commission=0.00495, # 取引手数料\n",
    "    margin=1.0, # レバレッジ倍率の逆数（0.5で2倍レバレッジ）\n",
    "    trade_on_close=True, # True：現在の終値で取引，False：次の時間の始値で取引\n",
    "    exclusive_orders=True #自動でポジションをクローズ\n",
    ")\n",
    "\n",
    "output = bt.run() # バックテスト実行\n",
    "print(output) # 実行結果(データ)\n",
    "bt.plot() # 実行結果（グラフ）"
   ]
  }
 ],
 "metadata": {
  "kernelspec": {
   "display_name": "Python 3 (ipykernel)",
   "language": "python",
   "name": "python3"
  },
  "language_info": {
   "codemirror_mode": {
    "name": "ipython",
    "version": 3
   },
   "file_extension": ".py",
   "mimetype": "text/x-python",
   "name": "python",
   "nbconvert_exporter": "python",
   "pygments_lexer": "ipython3",
   "version": "3.9.7"
  }
 },
 "nbformat": 4,
 "nbformat_minor": 5
}
