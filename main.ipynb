{
 "cells": [
  {
   "cell_type": "code",
   "execution_count": 1,
   "id": "2925127f",
   "metadata": {},
   "outputs": [
    {
     "name": "stdout",
     "output_type": "stream",
     "text": [
      "Requirement already satisfied: pandas_datareader in c:\\users\\user\\anaconda3\\lib\\site-packages (0.10.0)"
     ]
    },
    {
     "name": "stderr",
     "output_type": "stream",
     "text": [
      "WARNING: Ignoring invalid distribution -orch (c:\\users\\user\\anaconda3\\lib\\site-packages)\n",
      "WARNING: Ignoring invalid distribution -orch (c:\\users\\user\\anaconda3\\lib\\site-packages)\n",
      "WARNING: Ignoring invalid distribution -orch (c:\\users\\user\\anaconda3\\lib\\site-packages)\n",
      "WARNING: Ignoring invalid distribution -orch (c:\\users\\user\\anaconda3\\lib\\site-packages)\n",
      "WARNING: Ignoring invalid distribution -orch (c:\\users\\user\\anaconda3\\lib\\site-packages)\n",
      "WARNING: Ignoring invalid distribution -orch (c:\\users\\user\\anaconda3\\lib\\site-packages)\n"
     ]
    },
    {
     "name": "stdout",
     "output_type": "stream",
     "text": [
      "\n",
      "Requirement already satisfied: pandas>=0.23 in c:\\users\\user\\anaconda3\\lib\\site-packages (from pandas_datareader) (1.4.0)\n",
      "Requirement already satisfied: lxml in c:\\users\\user\\anaconda3\\lib\\site-packages (from pandas_datareader) (4.6.3)\n",
      "Requirement already satisfied: requests>=2.19.0 in c:\\users\\user\\anaconda3\\lib\\site-packages (from pandas_datareader) (2.26.0)\n",
      "Requirement already satisfied: pytz>=2020.1 in c:\\users\\user\\anaconda3\\lib\\site-packages (from pandas>=0.23->pandas_datareader) (2021.3)\n",
      "Requirement already satisfied: python-dateutil>=2.8.1 in c:\\users\\user\\anaconda3\\lib\\site-packages (from pandas>=0.23->pandas_datareader) (2.8.2)\n",
      "Requirement already satisfied: numpy>=1.18.5 in c:\\users\\user\\anaconda3\\lib\\site-packages (from pandas>=0.23->pandas_datareader) (1.20.3)\n",
      "Requirement already satisfied: six>=1.5 in c:\\users\\user\\anaconda3\\lib\\site-packages (from python-dateutil>=2.8.1->pandas>=0.23->pandas_datareader) (1.16.0)\n",
      "Requirement already satisfied: charset-normalizer~=2.0.0 in c:\\users\\user\\anaconda3\\lib\\site-packages (from requests>=2.19.0->pandas_datareader) (2.0.4)\n",
      "Requirement already satisfied: certifi>=2017.4.17 in c:\\users\\user\\anaconda3\\lib\\site-packages (from requests>=2.19.0->pandas_datareader) (2021.10.8)\n",
      "Requirement already satisfied: idna<4,>=2.5 in c:\\users\\user\\anaconda3\\lib\\site-packages (from requests>=2.19.0->pandas_datareader) (3.2)\n",
      "Requirement already satisfied: urllib3<1.27,>=1.21.1 in c:\\users\\user\\anaconda3\\lib\\site-packages (from requests>=2.19.0->pandas_datareader) (1.26.7)\n",
      "Requirement already satisfied: pandas in c:\\users\\user\\anaconda3\\lib\\site-packages (1.4.0)\n",
      "Requirement already satisfied: python-dateutil>=2.8.1 in c:\\users\\user\\anaconda3\\lib\\site-packages (from pandas) (2.8.2)\n",
      "Requirement already satisfied: numpy>=1.18.5 in c:\\users\\user\\anaconda3\\lib\\site-packages (from pandas) (1.20.3)\n",
      "Requirement already satisfied: pytz>=2020.1 in c:\\users\\user\\anaconda3\\lib\\site-packages (from pandas) (2021.3)\n",
      "Requirement already satisfied: six>=1.5 in c:\\users\\user\\anaconda3\\lib\\site-packages (from python-dateutil>=2.8.1->pandas) (1.16.0)\n"
     ]
    },
    {
     "name": "stderr",
     "output_type": "stream",
     "text": [
      "WARNING: Ignoring invalid distribution -orch (c:\\users\\user\\anaconda3\\lib\\site-packages)\n",
      "WARNING: Ignoring invalid distribution -orch (c:\\users\\user\\anaconda3\\lib\\site-packages)\n",
      "WARNING: Ignoring invalid distribution -orch (c:\\users\\user\\anaconda3\\lib\\site-packages)\n",
      "WARNING: Ignoring invalid distribution -orch (c:\\users\\user\\anaconda3\\lib\\site-packages)\n",
      "WARNING: Ignoring invalid distribution -orch (c:\\users\\user\\anaconda3\\lib\\site-packages)\n",
      "WARNING: Ignoring invalid distribution -orch (c:\\users\\user\\anaconda3\\lib\\site-packages)\n"
     ]
    }
   ],
   "source": [
    "!pip install pandas_datareader\n",
    "!pip install --upgrade pandas"
   ]
  },
  {
   "cell_type": "code",
   "execution_count": 2,
   "id": "22815f39",
   "metadata": {},
   "outputs": [],
   "source": [
    "import pandas as pd\n",
    "import datetime as dt\n",
    "from pandas_datareader import data\n",
    "import mplfinance as mpf\n",
    "\n",
    "#apikey = '取得したAPIキー'\n",
    "apikey = 'KDDTQTNE9OTMD4V4.'\n",
    "symbol = 'EURUSD'\n",
    "\n",
    "start = dt.date(2011,1,1)\n",
    "end = dt.date(2021,1,30)\n",
    "\n",
    "df = data.DataReader(symbol,'av-daily',start,end, api_key=apikey)"
   ]
  },
  {
   "cell_type": "code",
   "execution_count": 3,
   "id": "d44fdb21",
   "metadata": {},
   "outputs": [],
   "source": [
    "df['volume']=0.1 "
   ]
  },
  {
   "cell_type": "code",
   "execution_count": 4,
   "id": "2ec51f3a",
   "metadata": {},
   "outputs": [
    {
     "data": {
      "text/plain": [
       "array([[<AxesSubplot:title={'center':'open'}>,\n",
       "        <AxesSubplot:title={'center':'high'}>],\n",
       "       [<AxesSubplot:title={'center':'low'}>,\n",
       "        <AxesSubplot:title={'center':'close'}>],\n",
       "       [<AxesSubplot:title={'center':'volume'}>, <AxesSubplot:>]],\n",
       "      dtype=object)"
      ]
     },
     "execution_count": 4,
     "metadata": {},
     "output_type": "execute_result"
    },
    {
     "data": {
      "image/png": "[encoded data removed]",
      "text/plain": [
       "<Figure size 432x288 with 6 Axes>"
      ]
     },
     "metadata": {
      "needs_background": "light"
     },
     "output_type": "display_data"
    }
   ],
   "source": [
    "df.hist()"
   ]
  },
  {
   "cell_type": "code",
   "execution_count": 5,
   "id": "952cf8e2",
   "metadata": {},
   "outputs": [],
   "source": [
    "import numpy\n",
    "#df = df.apply(numpy.log)\n",
    "from scipy.stats import boxcox\n",
    "df2,_ = boxcox(df['close'])"
   ]
  },
  {
   "cell_type": "code",
   "execution_count": 6,
   "id": "f208c255",
   "metadata": {},
   "outputs": [],
   "source": [
    "df=df.assign(open=df2,high=df2,low=df2,close=df2)"
   ]
  },
  {
   "cell_type": "code",
   "execution_count": 7,
   "id": "c9dfc409",
   "metadata": {},
   "outputs": [
    {
     "data": {
      "text/plain": [
       "array([[<AxesSubplot:title={'center':'open'}>,\n",
       "        <AxesSubplot:title={'center':'high'}>],\n",
       "       [<AxesSubplot:title={'center':'low'}>,\n",
       "        <AxesSubplot:title={'center':'close'}>],\n",
       "       [<AxesSubplot:title={'center':'volume'}>, <AxesSubplot:>]],\n",
       "      dtype=object)"
      ]
     },
     "execution_count": 7,
     "metadata": {},
     "output_type": "execute_result"
    },
    {
     "data": {
      "image/png": "[encoded data removed]",
      "text/plain": [
       "<Figure size 432x288 with 6 Axes>"
      ]
     },
     "metadata": {
      "needs_background": "light"
     },
     "output_type": "display_data"
    }
   ],
   "source": [
    "df.hist()"
   ]
  },
  {
   "cell_type": "code",
   "execution_count": 8,
   "id": "72f1b6db",
   "metadata": {},
   "outputs": [],
   "source": [
    "wsize=80 #サンプル期間\n",
    "after=10 #最終レコード＋α\n",
    "change_large = 4 #変化大　4%"
   ]
  },
  {
   "cell_type": "code",
   "execution_count": 9,
   "id": "f78cd2b1",
   "metadata": {},
   "outputs": [],
   "source": [
    "df.index = pd.DatetimeIndex(df.index)\n",
    "\n",
    "alldata =[]\n",
    "\n",
    "for time in range(len(df)-wsize-1):\n",
    "    try:\n",
    "        dfspan = df[time:time+wsize]\n",
    "        dflast = df.at[df.index[time+wsize], 'close']\n",
    "        dfafter = df.at[df.index[time+wsize+after], 'close']\n",
    "        changerate=(dfafter-dflast)/dflast*100#変化率\n",
    "    \n",
    "        if changerate>0:\n",
    "            if changerate>change_large:\n",
    "                dflabel=\"++\"\n",
    "#            elif changerate>change_small:\n",
    "#                dflabel=\"+\"\n",
    "            else:\n",
    "                dflabel=\"0\"\n",
    "        else:\n",
    "            if changerate*-1>change_large:\n",
    "                dflabel=\"--\"\n",
    "#            elif changerate*-1>change_small:\n",
    "#                dflabel=\"-\"\n",
    "            else:\n",
    "                dflabel=\"0\"\n",
    "        alldata.append({\"df\":dfspan,\"label\":dflabel})\n",
    "    except:\n",
    "        pass"
   ]
  },
  {
   "cell_type": "code",
   "execution_count": 10,
   "id": "e083455c",
   "metadata": {},
   "outputs": [],
   "source": [
    "import os\n",
    "# Path to the train folder\n",
    "new_dir_path = './train/'\n",
    "for i in ['--','0','++']:\n",
    "    os.mkdir(new_dir_path+i)"
   ]
  },
  {
   "cell_type": "code",
   "execution_count": 11,
   "id": "a58cbb1f",
   "metadata": {},
   "outputs": [
    {
     "name": "stderr",
     "output_type": "stream",
     "text": [
      "100%|█████████████████████████████████████████████| 2540/2540 [02:47<00:00, 15.12it/s]\n"
     ]
    }
   ],
   "source": [
    "import tqdm\n",
    "import matplotlib as mpl\n",
    "\n",
    "sma_s= 15\n",
    "sma_m= 30\n",
    "\n",
    "cs  = mpf.make_mpf_style(base_mpl_style='dark_background',gridcolor=\"#000000\",mavcolors=['#00ff00','#0000ff'], facecolor=\"#000000\")\n",
    "\n",
    "for i in tqdm.tqdm(range(len(alldata))):\n",
    "    mpf.plot(alldata[i]['df'],savefig= new_dir_path + alldata[i]['label']+ '/'\\\n",
    "             + str(i) + 'test.png',mav=(sma_s,sma_m),figsize=(2.5,2.5), type='line',\\\n",
    "             figratio=(12,4),style=cs,axisoff=True,\\\n",
    "             linecolor='#ff0000',tight_layout=True)\n"
   ]
  },
  {
   "cell_type": "code",
   "execution_count": 12,
   "id": "80bccae1",
   "metadata": {},
   "outputs": [],
   "source": [
    "class ImageTransform():\n",
    "  def __init__(self, mean, std):\n",
    "    self.data_transform = transforms.Compose([\n",
    "    transforms.CenterCrop(224),\n",
    "    transforms.ToTensor(),\n",
    "    transforms.Normalize(mean, std)\n",
    "    ])\n",
    "\n",
    "  def __call__(self, img):\n",
    "    return self.data_transform(img)"
   ]
  },
  {
   "cell_type": "code",
   "execution_count": 13,
   "id": "c41441ff",
   "metadata": {},
   "outputs": [],
   "source": [
    "import torch\n",
    "from torchvision import transforms\n",
    "from torchvision.datasets import ImageFolder\n",
    "\n",
    "#画像データをImageFolderを使って取込みする\n",
    "mean=[0.485, 0.456, 0.406]\n",
    "std=[0.229, 0.224, 0.225]\n",
    "\n",
    "images = ImageFolder( new_dir_path, transform = ImageTransform(mean, std))"
   ]
  },
  {
   "cell_type": "code",
   "execution_count": 14,
   "id": "657efdad",
   "metadata": {},
   "outputs": [],
   "source": [
    "import torch.utils.data as data\n",
    "\n",
    "#1バッチに含む画像の枚数を指定する\n",
    "batch_size = 64\n",
    "\n",
    "#ImageFolderで取り込んだ画像からデータローダーを作成する\n",
    "train_dataloader = data.DataLoader(images, batch_size = batch_size, shuffle = True)"
   ]
  },
  {
   "cell_type": "code",
   "execution_count": 15,
   "id": "ab122986",
   "metadata": {},
   "outputs": [
    {
     "name": "stdout",
     "output_type": "stream",
     "text": [
      "image shape ==>; torch.Size([3, 224, 224])\n"
     ]
    }
   ],
   "source": [
    "#データローダから、画像とラベルのテンソルを取り出す。\n",
    "imgs, labels = iter(train_dataloader).next()\n",
    "\n",
    "#バッチから取り出した画像の大きさを確認する\n",
    "print(\"image shape ==>;\",imgs[0].shape)"
   ]
  },
  {
   "cell_type": "code",
   "execution_count": 16,
   "id": "951abaed",
   "metadata": {},
   "outputs": [
    {
     "name": "stdout",
     "output_type": "stream",
     "text": [
      "Label is  0\n"
     ]
    },
    {
     "data": {
      "image/png": "[encoded data removed]",
      "text/plain": [
       "<Figure size 432x288 with 1 Axes>"
      ]
     },
     "metadata": {
      "needs_background": "dark"
     },
     "output_type": "display_data"
    }
   ],
   "source": [
    "import matplotlib.pyplot as plt\n",
    "%matplotlib inline\n",
    "\n",
    "#バッチから取り出した画像のイメージとラベルを表示する\n",
    "pic = transforms.ToPILImage(mode='RGB')(imgs[0])\n",
    "plt.imshow(pic)\n",
    "print(\"Label is \",labels[0].numpy())"
   ]
  },
  {
   "cell_type": "code",
   "execution_count": 17,
   "id": "7cc39114",
   "metadata": {},
   "outputs": [
    {
     "name": "stdout",
     "output_type": "stream",
     "text": [
      "Label is  0\n"
     ]
    },
    {
     "data": {
      "image/png": "[encoded data removed]",
      "text/plain": [
       "<Figure size 432x288 with 1 Axes>"
      ]
     },
     "metadata": {
      "needs_background": "dark"
     },
     "output_type": "display_data"
    }
   ],
   "source": [
    "#バッチから取り出した画像のイメージとラベルを表示する\n",
    "pic = transforms.ToPILImage(mode='RGB')(imgs[63])\n",
    "plt.imshow(pic)\n",
    "print(\"Label is \",labels[63].numpy())"
   ]
  },
  {
   "cell_type": "code",
   "execution_count": 18,
   "id": "1fc90540",
   "metadata": {},
   "outputs": [],
   "source": [
    "# 学習データ、検証データに 8:2 の割合で分割する。\n",
    "train_size = int(0.8 * len(images))\n",
    "val_size = len(images) - train_size\n",
    "train_dataset, val_dataset = torch.utils.data.random_split(\n",
    "    images, [train_size, val_size]\n",
    ")"
   ]
  },
  {
   "cell_type": "code",
   "execution_count": 19,
   "id": "21314a70",
   "metadata": {},
   "outputs": [],
   "source": [
    "#1バッチに含む画像の枚数を指定する\n",
    "batch_size = 32\n",
    "\n",
    "#ImageFolderで取り込んだ画像からデータローダーを作成する\n",
    "dataloaders = {\n",
    "  'train': data.DataLoader(train_dataset, batch_size = batch_size, shuffle = True),\n",
    "  'valid': data.DataLoader(val_dataset, batch_size = batch_size, shuffle = True)\n",
    "}\n",
    "dataset_sizes = {\n",
    "    'train': len(train_dataset),\n",
    "    'valid': len(val_dataset)\n",
    "}"
   ]
  },
  {
   "cell_type": "code",
   "execution_count": 20,
   "id": "19bb110b",
   "metadata": {},
   "outputs": [],
   "source": [
    "from torchvision import models, transforms\n",
    "import torch.nn as nn\n",
    "vgg16 = models.vgg16(pretrained=True)\n",
    "\n",
    "# 全結合層の変更(最終層の出力を2にする)\n",
    "vgg16.classifier = nn.Sequential(\n",
    "    nn.Linear(512 * 7 * 7, 4096),\n",
    "    nn.ReLU(True),\n",
    "    nn.Dropout(),\n",
    "    nn.Linear(4096, 4096),\n",
    "    nn.ReLU(True),\n",
    "    nn.Dropout(),\n",
    "    nn.Linear(4096, 3),\n",
    ")"
   ]
  },
  {
   "cell_type": "code",
   "execution_count": 21,
   "id": "ea8f6a02",
   "metadata": {},
   "outputs": [
    {
     "data": {
      "text/plain": [
       "VGG(\n",
       "  (features): Sequential(\n",
       "    (0): Conv2d(3, 64, kernel_size=(3, 3), stride=(1, 1), padding=(1, 1))\n",
       "    (1): ReLU(inplace=True)\n",
       "    (2): Conv2d(64, 64, kernel_size=(3, 3), stride=(1, 1), padding=(1, 1))\n",
       "    (3): ReLU(inplace=True)\n",
       "    (4): MaxPool2d(kernel_size=2, stride=2, padding=0, dilation=1, ceil_mode=False)\n",
       "    (5): Conv2d(64, 128, kernel_size=(3, 3), stride=(1, 1), padding=(1, 1))\n",
       "    (6): ReLU(inplace=True)\n",
       "    (7): Conv2d(128, 128, kernel_size=(3, 3), stride=(1, 1), padding=(1, 1))\n",
       "    (8): ReLU(inplace=True)\n",
       "    (9): MaxPool2d(kernel_size=2, stride=2, padding=0, dilation=1, ceil_mode=False)\n",
       "    (10): Conv2d(128, 256, kernel_size=(3, 3), stride=(1, 1), padding=(1, 1))\n",
       "    (11): ReLU(inplace=True)\n",
       "    (12): Conv2d(256, 256, kernel_size=(3, 3), stride=(1, 1), padding=(1, 1))\n",
       "    (13): ReLU(inplace=True)\n",
       "    (14): Conv2d(256, 256, kernel_size=(3, 3), stride=(1, 1), padding=(1, 1))\n",
       "    (15): ReLU(inplace=True)\n",
       "    (16): MaxPool2d(kernel_size=2, stride=2, padding=0, dilation=1, ceil_mode=False)\n",
       "    (17): Conv2d(256, 512, kernel_size=(3, 3), stride=(1, 1), padding=(1, 1))\n",
       "    (18): ReLU(inplace=True)\n",
       "    (19): Conv2d(512, 512, kernel_size=(3, 3), stride=(1, 1), padding=(1, 1))\n",
       "    (20): ReLU(inplace=True)\n",
       "    (21): Conv2d(512, 512, kernel_size=(3, 3), stride=(1, 1), padding=(1, 1))\n",
       "    (22): ReLU(inplace=True)\n",
       "    (23): MaxPool2d(kernel_size=2, stride=2, padding=0, dilation=1, ceil_mode=False)\n",
       "    (24): Conv2d(512, 512, kernel_size=(3, 3), stride=(1, 1), padding=(1, 1))\n",
       "    (25): ReLU(inplace=True)\n",
       "    (26): Conv2d(512, 512, kernel_size=(3, 3), stride=(1, 1), padding=(1, 1))\n",
       "    (27): ReLU(inplace=True)\n",
       "    (28): Conv2d(512, 512, kernel_size=(3, 3), stride=(1, 1), padding=(1, 1))\n",
       "    (29): ReLU(inplace=True)\n",
       "    (30): MaxPool2d(kernel_size=2, stride=2, padding=0, dilation=1, ceil_mode=False)\n",
       "  )\n",
       "  (avgpool): AdaptiveAvgPool2d(output_size=(7, 7))\n",
       "  (classifier): Sequential(\n",
       "    (0): Linear(in_features=25088, out_features=4096, bias=True)\n",
       "    (1): ReLU(inplace=True)\n",
       "    (2): Dropout(p=0.5, inplace=False)\n",
       "    (3): Linear(in_features=4096, out_features=4096, bias=True)\n",
       "    (4): ReLU(inplace=True)\n",
       "    (5): Dropout(p=0.5, inplace=False)\n",
       "    (6): Linear(in_features=4096, out_features=3, bias=True)\n",
       "  )\n",
       ")"
      ]
     },
     "execution_count": 21,
     "metadata": {},
     "output_type": "execute_result"
    }
   ],
   "source": [
    "device = torch.device('cuda:1' if torch.cuda.is_available() else 'cpu')\n",
    "#device = torch.device('cpu')\n",
    "\n",
    "# 出力層の変更\n",
    "num_ftrs = vgg16.classifier[6].in_features\n",
    "vgg16.classifier[6] = torch.nn.Linear(num_ftrs,  out_features=3)\n",
    "\n",
    "net_ft1 = vgg16.to(device)\n",
    "\n",
    "# 損失関数および学習パラメーターの定義\n",
    "criterion = torch.nn.CrossEntropyLoss()\n",
    "optimizer = torch.optim.SGD(net_ft1.parameters(), lr=0.001, momentum=0.9)\n",
    "scheduler = torch.optim.lr_scheduler.StepLR(optimizer, step_size=7, gamma=0.1)\n",
    "\n",
    "# 訓練モードに設定\n",
    "net_ft1.train()\n",
    "\n"
   ]
  },
  {
   "cell_type": "code",
   "execution_count": 22,
   "id": "7f7af238",
   "metadata": {},
   "outputs": [
    {
     "name": "stdout",
     "output_type": "stream",
     "text": [
      "Epoch 0/49\n",
      "----------\n",
      "train Loss: 1.0217 Acc: 0.4843\n",
      "valid Loss: 0.9605 Acc: 0.5197\n",
      "Epoch 1/49\n",
      "----------\n",
      "train Loss: 0.8642 Acc: 0.6112\n",
      "valid Loss: 0.8080 Acc: 0.6535\n",
      "Epoch 2/49\n",
      "----------\n",
      "train Loss: 0.6638 Acc: 0.7239\n",
      "valid Loss: 0.6717 Acc: 0.7008\n",
      "Epoch 3/49\n",
      "----------\n",
      "train Loss: 0.5721 Acc: 0.7662\n",
      "valid Loss: 0.6303 Acc: 0.7283\n",
      "Epoch 4/49\n",
      "----------\n",
      "train Loss: 0.4956 Acc: 0.8017\n",
      "valid Loss: 0.6225 Acc: 0.7185\n",
      "Epoch 5/49\n",
      "----------\n",
      "train Loss: 0.4312 Acc: 0.8199\n",
      "valid Loss: 0.6168 Acc: 0.7441\n",
      "Epoch 6/49\n",
      "----------\n",
      "train Loss: 0.3832 Acc: 0.8406\n",
      "valid Loss: 0.6654 Acc: 0.7421\n",
      "Epoch 7/49\n",
      "----------\n",
      "train Loss: 0.2415 Acc: 0.8996\n",
      "valid Loss: 0.6165 Acc: 0.7598\n",
      "Epoch 8/49\n",
      "----------\n",
      "train Loss: 0.2005 Acc: 0.9154\n",
      "valid Loss: 0.6197 Acc: 0.7500\n",
      "Epoch 9/49\n",
      "----------\n",
      "train Loss: 0.1781 Acc: 0.9316\n",
      "valid Loss: 0.6324 Acc: 0.7520\n",
      "Epoch 10/49\n",
      "----------\n",
      "train Loss: 0.1550 Acc: 0.9375\n",
      "valid Loss: 0.6335 Acc: 0.7618\n",
      "Epoch 11/49\n",
      "----------\n",
      "train Loss: 0.1365 Acc: 0.9493\n",
      "valid Loss: 0.6806 Acc: 0.7657\n",
      "Epoch 12/49\n",
      "----------\n",
      "train Loss: 0.1319 Acc: 0.9473\n",
      "valid Loss: 0.6675 Acc: 0.7638\n",
      "Epoch 13/49\n",
      "----------\n",
      "train Loss: 0.1251 Acc: 0.9528\n",
      "valid Loss: 0.6760 Acc: 0.7598\n",
      "Epoch 14/49\n",
      "----------\n",
      "train Loss: 0.1159 Acc: 0.9587\n",
      "valid Loss: 0.6790 Acc: 0.7618\n",
      "Epoch 15/49\n",
      "----------\n",
      "train Loss: 0.1075 Acc: 0.9646\n",
      "valid Loss: 0.6810 Acc: 0.7579\n",
      "Epoch 16/49\n",
      "----------\n",
      "train Loss: 0.1085 Acc: 0.9616\n",
      "valid Loss: 0.6845 Acc: 0.7638\n",
      "Epoch 17/49\n",
      "----------\n",
      "train Loss: 0.1046 Acc: 0.9656\n",
      "valid Loss: 0.6903 Acc: 0.7539\n",
      "Epoch 18/49\n",
      "----------\n",
      "train Loss: 0.1107 Acc: 0.9592\n",
      "valid Loss: 0.6876 Acc: 0.7559\n",
      "Epoch 19/49\n",
      "----------\n",
      "train Loss: 0.0975 Acc: 0.9705\n",
      "valid Loss: 0.6954 Acc: 0.7598\n",
      "Epoch 20/49\n",
      "----------\n",
      "train Loss: 0.0999 Acc: 0.9651\n",
      "valid Loss: 0.6937 Acc: 0.7638\n",
      "Epoch 21/49\n",
      "----------\n",
      "train Loss: 0.0975 Acc: 0.9690\n",
      "valid Loss: 0.6939 Acc: 0.7638\n",
      "Epoch 22/49\n",
      "----------\n",
      "train Loss: 0.1035 Acc: 0.9636\n",
      "valid Loss: 0.6938 Acc: 0.7598\n",
      "Epoch 23/49\n",
      "----------\n",
      "train Loss: 0.0954 Acc: 0.9705\n",
      "valid Loss: 0.6942 Acc: 0.7598\n",
      "Epoch 24/49\n",
      "----------\n",
      "train Loss: 0.0948 Acc: 0.9695\n",
      "valid Loss: 0.6942 Acc: 0.7598\n",
      "Epoch 25/49\n",
      "----------\n",
      "train Loss: 0.0971 Acc: 0.9651\n",
      "valid Loss: 0.6944 Acc: 0.7598\n",
      "Epoch 26/49\n",
      "----------\n",
      "train Loss: 0.0984 Acc: 0.9656\n",
      "valid Loss: 0.6945 Acc: 0.7598\n",
      "Epoch 27/49\n",
      "----------\n",
      "train Loss: 0.0988 Acc: 0.9675\n",
      "valid Loss: 0.6945 Acc: 0.7618\n",
      "Epoch 28/49\n",
      "----------\n",
      "train Loss: 0.0945 Acc: 0.9695\n",
      "valid Loss: 0.6946 Acc: 0.7618\n",
      "Epoch 29/49\n",
      "----------\n",
      "train Loss: 0.1005 Acc: 0.9646\n",
      "valid Loss: 0.6947 Acc: 0.7618\n",
      "Epoch 30/49\n",
      "----------\n",
      "train Loss: 0.0938 Acc: 0.9715\n",
      "valid Loss: 0.6947 Acc: 0.7618\n",
      "Epoch 31/49\n",
      "----------\n",
      "train Loss: 0.0870 Acc: 0.9739\n",
      "valid Loss: 0.6947 Acc: 0.7618\n",
      "Epoch 32/49\n",
      "----------\n",
      "train Loss: 0.0927 Acc: 0.9670\n",
      "valid Loss: 0.6948 Acc: 0.7618\n",
      "Epoch 33/49\n",
      "----------\n",
      "train Loss: 0.0980 Acc: 0.9685\n",
      "valid Loss: 0.6948 Acc: 0.7618\n",
      "Epoch 34/49\n",
      "----------\n",
      "train Loss: 0.0956 Acc: 0.9705\n",
      "valid Loss: 0.6947 Acc: 0.7598\n",
      "Epoch 35/49\n",
      "----------\n",
      "train Loss: 0.0980 Acc: 0.9695\n",
      "valid Loss: 0.6947 Acc: 0.7598\n",
      "Epoch 36/49\n",
      "----------\n",
      "train Loss: 0.1002 Acc: 0.9596\n",
      "valid Loss: 0.6947 Acc: 0.7598\n",
      "Epoch 37/49\n",
      "----------\n",
      "train Loss: 0.0968 Acc: 0.9695\n",
      "valid Loss: 0.6947 Acc: 0.7598\n",
      "Epoch 38/49\n",
      "----------\n",
      "train Loss: 0.0951 Acc: 0.9675\n",
      "valid Loss: 0.6947 Acc: 0.7598\n",
      "Epoch 39/49\n",
      "----------\n",
      "train Loss: 0.0991 Acc: 0.9705\n",
      "valid Loss: 0.6947 Acc: 0.7598\n",
      "Epoch 40/49\n",
      "----------\n",
      "train Loss: 0.1010 Acc: 0.9660\n",
      "valid Loss: 0.6947 Acc: 0.7598\n",
      "Epoch 41/49\n",
      "----------\n",
      "train Loss: 0.0977 Acc: 0.9665\n",
      "valid Loss: 0.6947 Acc: 0.7598\n",
      "Epoch 42/49\n",
      "----------\n",
      "train Loss: 0.0949 Acc: 0.9675\n",
      "valid Loss: 0.6947 Acc: 0.7598\n",
      "Epoch 43/49\n",
      "----------\n",
      "train Loss: 0.0965 Acc: 0.9646\n",
      "valid Loss: 0.6947 Acc: 0.7598\n",
      "Epoch 44/49\n",
      "----------\n",
      "train Loss: 0.0931 Acc: 0.9764\n",
      "valid Loss: 0.6947 Acc: 0.7598\n",
      "Epoch 45/49\n",
      "----------\n",
      "train Loss: 0.0977 Acc: 0.9690\n",
      "valid Loss: 0.6947 Acc: 0.7598\n",
      "Epoch 46/49\n",
      "----------\n",
      "train Loss: 0.1001 Acc: 0.9685\n",
      "valid Loss: 0.6947 Acc: 0.7598\n",
      "Epoch 47/49\n",
      "----------\n",
      "train Loss: 0.0992 Acc: 0.9675\n",
      "valid Loss: 0.6947 Acc: 0.7598\n",
      "Epoch 48/49\n",
      "----------\n",
      "train Loss: 0.0994 Acc: 0.9646\n",
      "valid Loss: 0.6947 Acc: 0.7598\n",
      "Epoch 49/49\n",
      "----------\n",
      "train Loss: 0.0943 Acc: 0.9724\n",
      "valid Loss: 0.6947 Acc: 0.7598\n"
     ]
    }
   ],
   "source": [
    "num_epochs = 50\n",
    "acc_history_ft1 = {'train': [], 'valid': []}\n",
    "\n",
    "for epoch in range(num_epochs):\n",
    "    print('Epoch {}/{}'.format(epoch, num_epochs - 1))\n",
    "    print('-' * 10)\n",
    "\n",
    "    for phase in ['train', 'valid']:\n",
    "        if phase == 'train':\n",
    "            net_ft1.train()\n",
    "        else:\n",
    "            net_ft1.eval()\n",
    "\n",
    "        running_loss = 0.0\n",
    "        running_corrects = 0\n",
    "\n",
    "        for inputs, labels in dataloaders[phase]:\n",
    "            inputs = inputs.to(device)\n",
    "            labels = labels.to(device)\n",
    "\n",
    "            optimizer.zero_grad()\n",
    "\n",
    "            with torch.set_grad_enabled(phase == 'train'):\n",
    "                outputs = net_ft1(inputs)\n",
    "                _, preds = torch.max(outputs, 1)\n",
    "                loss = criterion(outputs, labels)\n",
    "\n",
    "                \n",
    "                if phase == 'train':\n",
    "                    loss.backward()\n",
    "                    optimizer.step()\n",
    "\n",
    "            running_loss += loss.item() * inputs.size(0)\n",
    "            running_corrects += torch.sum(preds == labels.data)\n",
    "        if phase == 'train':\n",
    "            scheduler.step()\n",
    "\n",
    "        epoch_loss = running_loss / dataset_sizes[phase]\n",
    "        epoch_acc = running_corrects.double() / dataset_sizes[phase]\n",
    "        acc_history_ft1[phase].append(epoch_acc)\n",
    "        print('{} Loss: {:.4f} Acc: {:.4f}'.format(phase, epoch_loss, epoch_acc))"
   ]
  },
  {
   "cell_type": "code",
   "execution_count": 23,
   "id": "9466ba35",
   "metadata": {},
   "outputs": [
    {
     "data": {
      "text/plain": [
       "(0.0, 1.0)"
      ]
     },
     "execution_count": 23,
     "metadata": {},
     "output_type": "execute_result"
    },
    {
     "data": {
      "image/png": "[encoded data removed]",
      "text/plain": [
       "<Figure size 640x480 with 1 Axes>"
      ]
     },
     "metadata": {},
     "output_type": "display_data"
    }
   ],
   "source": [
    "import matplotlib.pyplot as plt\n",
    "%matplotlib inline\n",
    "\n",
    "plt.style.use('default')\n",
    "\n",
    "\n",
    "fig = plt.figure()\n",
    "ax = fig.add_subplot()\n",
    "ax.plot([a.cpu().numpy() for a in acc_history_ft1['train']], label='train')\n",
    "ax.plot([a.cpu().numpy() for a in acc_history_ft1['valid']],label='valid')\n",
    "ax.legend()\n",
    "ax.set_ylim(0, 1)"
   ]
  },
  {
   "cell_type": "code",
   "execution_count": 24,
   "id": "ce38050c",
   "metadata": {},
   "outputs": [],
   "source": [
    "torch.save(net_ft1.state_dict(), 'model_state.pth')"
   ]
  },
  {
   "cell_type": "code",
   "execution_count": null,
   "id": "95adf15b",
   "metadata": {},
   "outputs": [],
   "source": []
  }
 ],
 "metadata": {
  "kernelspec": {
   "display_name": "Python 3 (ipykernel)",
   "language": "python",
   "name": "python3"
  },
  "language_info": {
   "codemirror_mode": {
    "name": "ipython",
    "version": 3
   },
   "file_extension": ".py",
   "mimetype": "text/x-python",
   "name": "python",
   "nbconvert_exporter": "python",
   "pygments_lexer": "ipython3",
   "version": "3.9.7"
  }
 },
 "nbformat": 4,
 "nbformat_minor": 5
}
