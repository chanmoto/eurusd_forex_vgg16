{
 "cells": [
  {
   "cell_type": "code",
   "execution_count": 1,
   "id": "2925127f",
   "metadata": {},
   "outputs": [
    {
     "name": "stdout",
     "output_type": "stream",
     "text": [
      "Requirement already satisfied: pandas_datareader in c:\\users\\user\\anaconda3\\lib\\site-packages (0.10.0)\n",
      "Requirement already satisfied: lxml in c:\\users\\user\\anaconda3\\lib\\site-packages (from pandas_datareader) (4.6.3)\n",
      "Requirement already satisfied: pandas>=0.23 in c:\\users\\user\\anaconda3\\lib\\site-packages (from pandas_datareader) (1.4.0)\n",
      "Requirement already satisfied: requests>=2.19.0 in c:\\users\\user\\anaconda3\\lib\\site-packages (from pandas_datareader) (2.26.0)\n",
      "Requirement already satisfied: python-dateutil>=2.8.1 in c:\\users\\user\\anaconda3\\lib\\site-packages (from pandas>=0.23->pandas_datareader) (2.8.2)\n",
      "Requirement already satisfied: pytz>=2020.1 in c:\\users\\user\\anaconda3\\lib\\site-packages (from pandas>=0.23->pandas_datareader) (2021.3)\n",
      "Requirement already satisfied: numpy>=1.18.5 in c:\\users\\user\\anaconda3\\lib\\site-packages (from pandas>=0.23->pandas_datareader) (1.20.3)\n",
      "Requirement already satisfied: six>=1.5 in c:\\users\\user\\anaconda3\\lib\\site-packages (from python-dateutil>=2.8.1->pandas>=0.23->pandas_datareader) (1.16.0)"
     ]
    },
    {
     "name": "stderr",
     "output_type": "stream",
     "text": [
      "WARNING: Ignoring invalid distribution -orch (c:\\users\\user\\anaconda3\\lib\\site-packages)\n",
      "WARNING: Ignoring invalid distribution -orch (c:\\users\\user\\anaconda3\\lib\\site-packages)\n",
      "WARNING: Ignoring invalid distribution -orch (c:\\users\\user\\anaconda3\\lib\\site-packages)\n",
      "WARNING: Ignoring invalid distribution -orch (c:\\users\\user\\anaconda3\\lib\\site-packages)\n",
      "WARNING: Ignoring invalid distribution -orch (c:\\users\\user\\anaconda3\\lib\\site-packages)\n",
      "WARNING: Ignoring invalid distribution -orch (c:\\users\\user\\anaconda3\\lib\\site-packages)\n"
     ]
    },
    {
     "name": "stdout",
     "output_type": "stream",
     "text": [
      "\n",
      "Requirement already satisfied: idna<4,>=2.5 in c:\\users\\user\\anaconda3\\lib\\site-packages (from requests>=2.19.0->pandas_datareader) (3.2)\n",
      "Requirement already satisfied: certifi>=2017.4.17 in c:\\users\\user\\anaconda3\\lib\\site-packages (from requests>=2.19.0->pandas_datareader) (2021.10.8)\n",
      "Requirement already satisfied: charset-normalizer~=2.0.0 in c:\\users\\user\\anaconda3\\lib\\site-packages (from requests>=2.19.0->pandas_datareader) (2.0.4)\n",
      "Requirement already satisfied: urllib3<1.27,>=1.21.1 in c:\\users\\user\\anaconda3\\lib\\site-packages (from requests>=2.19.0->pandas_datareader) (1.26.7)\n",
      "Requirement already satisfied: pandas in c:\\users\\user\\anaconda3\\lib\\site-packages (1.4.0)\n",
      "Requirement already satisfied: python-dateutil>=2.8.1 in c:\\users\\user\\anaconda3\\lib\\site-packages (from pandas) (2.8.2)\n",
      "Requirement already satisfied: pytz>=2020.1 in c:\\users\\user\\anaconda3\\lib\\site-packages (from pandas) (2021.3)\n",
      "Requirement already satisfied: numpy>=1.18.5 in c:\\users\\user\\anaconda3\\lib\\site-packages (from pandas) (1.20.3)\n",
      "Requirement already satisfied: six>=1.5 in c:\\users\\user\\anaconda3\\lib\\site-packages (from python-dateutil>=2.8.1->pandas) (1.16.0)\n"
     ]
    },
    {
     "name": "stderr",
     "output_type": "stream",
     "text": [
      "WARNING: Ignoring invalid distribution -orch (c:\\users\\user\\anaconda3\\lib\\site-packages)\n",
      "WARNING: Ignoring invalid distribution -orch (c:\\users\\user\\anaconda3\\lib\\site-packages)\n",
      "WARNING: Ignoring invalid distribution -orch (c:\\users\\user\\anaconda3\\lib\\site-packages)\n",
      "WARNING: Ignoring invalid distribution -orch (c:\\users\\user\\anaconda3\\lib\\site-packages)\n",
      "WARNING: Ignoring invalid distribution -orch (c:\\users\\user\\anaconda3\\lib\\site-packages)\n",
      "WARNING: Ignoring invalid distribution -orch (c:\\users\\user\\anaconda3\\lib\\site-packages)\n"
     ]
    }
   ],
   "source": [
    "!pip install pandas_datareader\n",
    "!pip install --upgrade pandas"
   ]
  },
  {
   "cell_type": "code",
   "execution_count": 2,
   "id": "22815f39",
   "metadata": {},
   "outputs": [],
   "source": [
    "import pandas as pd\n",
    "import datetime as dt\n",
    "from pandas_datareader import data\n",
    "import mplfinance as mpf\n",
    "\n",
    "#apikey = '取得したAPIキー'\n",
    "apikey = 'KDDTQTNE9OTMD4V4.'\n",
    "symbol = 'EURUSD'\n",
    "\n",
    "start = dt.date(2011,1,1)\n",
    "end = dt.date(2021,1,30)\n",
    "\n",
    "df = data.DataReader(symbol,'av-daily',start,end, api_key=apikey)"
   ]
  },
  {
   "cell_type": "code",
   "execution_count": 3,
   "id": "d44fdb21",
   "metadata": {},
   "outputs": [],
   "source": [
    "df['volume']=0.1 "
   ]
  },
  {
   "cell_type": "code",
   "execution_count": 4,
   "id": "2ec51f3a",
   "metadata": {},
   "outputs": [
    {
     "data": {
      "text/plain": [
       "array([[<AxesSubplot:title={'center':'open'}>,\n",
       "        <AxesSubplot:title={'center':'high'}>],\n",
       "       [<AxesSubplot:title={'center':'low'}>,\n",
       "        <AxesSubplot:title={'center':'close'}>],\n",
       "       [<AxesSubplot:title={'center':'volume'}>, <AxesSubplot:>]],\n",
       "      dtype=object)"
      ]
     },
     "execution_count": 4,
     "metadata": {},
     "output_type": "execute_result"
    },
    {
     "data": {
      "image/png": "[encoded data removed]",
      "text/plain": [
       "<Figure size 432x288 with 6 Axes>"
      ]
     },
     "metadata": {
      "needs_background": "light"
     },
     "output_type": "display_data"
    }
   ],
   "source": [
    "df.hist()"
   ]
  },
  {
   "cell_type": "code",
   "execution_count": 5,
   "id": "952cf8e2",
   "metadata": {},
   "outputs": [],
   "source": [
    "import numpy\n",
    "#df = df.apply(numpy.log)\n",
    "from scipy.stats import boxcox\n",
    "df2,_ = boxcox(df['close'])"
   ]
  },
  {
   "cell_type": "code",
   "execution_count": 6,
   "id": "f208c255",
   "metadata": {},
   "outputs": [],
   "source": [
    "df=df.assign(open=df2,high=df2,low=df2,close=df2)"
   ]
  },
  {
   "cell_type": "code",
   "execution_count": 7,
   "id": "c9dfc409",
   "metadata": {},
   "outputs": [
    {
     "data": {
      "text/plain": [
       "array([[<AxesSubplot:title={'center':'open'}>,\n",
       "        <AxesSubplot:title={'center':'high'}>],\n",
       "       [<AxesSubplot:title={'center':'low'}>,\n",
       "        <AxesSubplot:title={'center':'close'}>],\n",
       "       [<AxesSubplot:title={'center':'volume'}>, <AxesSubplot:>]],\n",
       "      dtype=object)"
      ]
     },
     "execution_count": 7,
     "metadata": {},
     "output_type": "execute_result"
    },
    {
     "data": {
      "image/png": "[encoded data removed]",
      "text/plain": [
       "<Figure size 432x288 with 6 Axes>"
      ]
     },
     "metadata": {
      "needs_background": "light"
     },
     "output_type": "display_data"
    }
   ],
   "source": [
    "df.hist()"
   ]
  },
  {
   "cell_type": "code",
   "execution_count": 8,
   "id": "72f1b6db",
   "metadata": {},
   "outputs": [],
   "source": [
    "wsize=80 #サンプル期間\n",
    "after=10 #最終レコード＋α\n",
    "change_large = 4 #変化大　4%"
   ]
  },
  {
   "cell_type": "code",
   "execution_count": 9,
   "id": "f78cd2b1",
   "metadata": {},
   "outputs": [],
   "source": [
    "df.index = pd.DatetimeIndex(df.index)\n",
    "\n",
    "alldata =[]\n",
    "\n",
    "for time in range(len(df)-wsize-1):\n",
    "    try:\n",
    "        dfspan = df[time:time+wsize]\n",
    "        dflast = df.at[df.index[time+wsize], 'close']\n",
    "        dfafter = df.at[df.index[time+wsize+after], 'close']\n",
    "        changerate=(dfafter-dflast)/dflast*100#変化率\n",
    "    \n",
    "        if changerate>0:\n",
    "            if changerate>change_large:\n",
    "                dflabel=\"++\"\n",
    "#            elif changerate>change_small:\n",
    "#                dflabel=\"+\"\n",
    "            else:\n",
    "                dflabel=\"0\"\n",
    "        else:\n",
    "            if changerate*-1>change_large:\n",
    "                dflabel=\"--\"\n",
    "#            elif changerate*-1>change_small:\n",
    "#                dflabel=\"-\"\n",
    "            else:\n",
    "                dflabel=\"0\"\n",
    "        alldata.append({\"df\":dfspan,\"label\":dflabel})\n",
    "    except:\n",
    "        pass"
   ]
  },
  {
   "cell_type": "code",
   "execution_count": 12,
   "id": "e083455c",
   "metadata": {},
   "outputs": [],
   "source": [
    "import os\n",
    "# Path to the train folder\n",
    "new_dir_path = './train/'\n",
    "for i in ['--','0','++']:\n",
    "    os.mkdir(new_dir_path+i)"
   ]
  },
  {
   "cell_type": "code",
   "execution_count": null,
   "id": "a58cbb1f",
   "metadata": {},
   "outputs": [
    {
     "name": "stderr",
     "output_type": "stream",
     "text": [
      " 16%|███████▏                                      | 400/2540 [00:22<02:00, 17.83it/s]"
     ]
    }
   ],
   "source": [
    "import tqdm\n",
    "import matplotlib as mpl\n",
    "\n",
    "sma_s= 15\n",
    "sma_m= 30\n",
    "\n",
    "cs  = mpf.make_mpf_style(base_mpl_style='dark_background',gridcolor=\"#000000\",mavcolors=['#00ff00','#0000ff'], facecolor=\"#000000\")\n",
    "\n",
    "for i in tqdm.tqdm(range(len(alldata))):\n",
    "    mpf.plot(alldata[i]['df'],savefig= new_dir_path + alldata[i]['label']+ '/'\\\n",
    "             + str(i) + 'test.png',mav=(sma_s,sma_m),figsize=(2.5,2.5), type='line',\\\n",
    "             figratio=(12,4),style=cs,axisoff=True,\\\n",
    "             linecolor='#ff0000',tight_layout=True)\n"
   ]
  },
  {
   "cell_type": "code",
   "execution_count": null,
   "id": "80bccae1",
   "metadata": {},
   "outputs": [],
   "source": [
    "class ImageTransform():\n",
    "  def __init__(self, mean, std):\n",
    "    self.data_transform = transforms.Compose([\n",
    "    transforms.CenterCrop(224),\n",
    "    transforms.ToTensor(),\n",
    "    transforms.Normalize(mean, std)\n",
    "    ])\n",
    "\n",
    "  def __call__(self, img):\n",
    "    return self.data_transform(img)"
   ]
  },
  {
   "cell_type": "code",
   "execution_count": null,
   "id": "c41441ff",
   "metadata": {},
   "outputs": [],
   "source": [
    "import torch\n",
    "from torchvision import transforms\n",
    "from torchvision.datasets import ImageFolder\n",
    "\n",
    "#画像データをImageFolderを使って取込みする\n",
    "mean=[0.485, 0.456, 0.406]\n",
    "std=[0.229, 0.224, 0.225]\n",
    "\n",
    "images = ImageFolder( new_dir_path, transform = ImageTransform(mean, std))"
   ]
  },
  {
   "cell_type": "code",
   "execution_count": null,
   "id": "657efdad",
   "metadata": {},
   "outputs": [],
   "source": [
    "import torch.utils.data as data\n",
    "\n",
    "#1バッチに含む画像の枚数を指定する\n",
    "batch_size = 64\n",
    "\n",
    "#ImageFolderで取り込んだ画像からデータローダーを作成する\n",
    "train_dataloader = data.DataLoader(images, batch_size = batch_size, shuffle = True)"
   ]
  },
  {
   "cell_type": "code",
   "execution_count": null,
   "id": "ab122986",
   "metadata": {},
   "outputs": [],
   "source": [
    "#データローダから、画像とラベルのテンソルを取り出す。\n",
    "imgs, labels = iter(train_dataloader).next()\n",
    "\n",
    "#バッチから取り出した画像の大きさを確認する\n",
    "print(\"image shape ==>;\",imgs[0].shape)"
   ]
  },
  {
   "cell_type": "code",
   "execution_count": null,
   "id": "951abaed",
   "metadata": {},
   "outputs": [],
   "source": [
    "import matplotlib.pyplot as plt\n",
    "%matplotlib inline\n",
    "\n",
    "#バッチから取り出した画像のイメージとラベルを表示する\n",
    "pic = transforms.ToPILImage(mode='RGB')(imgs[0])\n",
    "plt.imshow(pic)\n",
    "print(\"Label is \",labels[0].numpy())"
   ]
  },
  {
   "cell_type": "code",
   "execution_count": null,
   "id": "7cc39114",
   "metadata": {},
   "outputs": [],
   "source": [
    "#バッチから取り出した画像のイメージとラベルを表示する\n",
    "pic = transforms.ToPILImage(mode='RGB')(imgs[63])\n",
    "plt.imshow(pic)\n",
    "print(\"Label is \",labels[63].numpy())"
   ]
  },
  {
   "cell_type": "code",
   "execution_count": null,
   "id": "1fc90540",
   "metadata": {},
   "outputs": [],
   "source": [
    "# 学習データ、検証データに 8:2 の割合で分割する。\n",
    "train_size = int(0.8 * len(images))\n",
    "val_size = len(images) - train_size\n",
    "train_dataset, val_dataset = torch.utils.data.random_split(\n",
    "    images, [train_size, val_size]\n",
    ")"
   ]
  },
  {
   "cell_type": "code",
   "execution_count": null,
   "id": "21314a70",
   "metadata": {},
   "outputs": [],
   "source": [
    "#1バッチに含む画像の枚数を指定する\n",
    "batch_size = 64\n",
    "\n",
    "#ImageFolderで取り込んだ画像からデータローダーを作成する\n",
    "dataloaders = {\n",
    "  'train': data.DataLoader(train_dataset, batch_size = batch_size, shuffle = True),\n",
    "  'valid': data.DataLoader(val_dataset, batch_size = batch_size, shuffle = True)\n",
    "}\n",
    "dataset_sizes = {\n",
    "    'train': len(train_dataset),\n",
    "    'valid': len(val_dataset)\n",
    "}"
   ]
  },
  {
   "cell_type": "code",
   "execution_count": null,
   "id": "19bb110b",
   "metadata": {},
   "outputs": [],
   "source": [
    "from torchvision import models, transforms\n",
    "import torch.nn as nn\n",
    "vgg16 = models.vgg16(pretrained=True)\n",
    "\n",
    "# 全結合層の変更(最終層の出力を2にする)\n",
    "vgg16.classifier = nn.Sequential(\n",
    "    nn.Linear(512 * 7 * 7, 4096),\n",
    "    nn.ReLU(True),\n",
    "    nn.Dropout(),\n",
    "    nn.Linear(4096, 4096),\n",
    "    nn.ReLU(True),\n",
    "    nn.Dropout(),\n",
    "    nn.Linear(4096, 3),\n",
    ")"
   ]
  },
  {
   "cell_type": "code",
   "execution_count": null,
   "id": "ea8f6a02",
   "metadata": {},
   "outputs": [],
   "source": [
    "device = torch.device('cuda:1' if torch.cuda.is_available() else 'cpu')\n",
    "#device = torch.device('cpu')\n",
    "\n",
    "# 出力層の変更\n",
    "#num_ftrs = vgg16.classifier[6].in_features\n",
    "#vgg16.classifier[6] = torch.nn.Linear(num_ftrs,  out_features=3)\n",
    "\n",
    "net_ft1 = vgg16.to(device)\n",
    "\n",
    "# 損失関数および学習パラメーターの定義\n",
    "criterion = torch.nn.CrossEntropyLoss()\n",
    "\n",
    "# 訓練モードに設定\n",
    "net_ft1.train()\n",
    "\n",
    "# ファインチューニングで学習させるパラメータを、変数param_to_updateに格納する\n",
    "param_to_update_1 = []\n",
    "param_to_update_2 = []\n",
    "param_to_update_3 = []\n",
    "\n",
    "# 学習させるパラメータ名\n",
    "update_param_names_1 = ['features']\n",
    "update_param_names_2 = ['classifier.0.weight','classifier.0.bias','classifier.3.weight','classifier.3.bias']\n",
    "update_param_names_3 = ['classifier.6.weight','classifier.6.bias']\n",
    "\n"
   ]
  },
  {
   "cell_type": "code",
   "execution_count": null,
   "id": "1dd47a2d",
   "metadata": {},
   "outputs": [],
   "source": [
    "# 最適化手法の設定\n",
    "optimizer = torch.optim.SGD([\n",
    "    {'params':param_to_update_1,'lr':1e-4},\n",
    "    {'params':param_to_update_2,'lr':5e-4},\n",
    "    {'params':param_to_update_3,'lr':1e-3},\n",
    "    ],momentum=0.9)\n",
    "scheduler = torch.optim.lr_scheduler.StepLR(optimizer, step_size=7, gamma=0.1)"
   ]
  },
  {
   "cell_type": "code",
   "execution_count": null,
   "id": "afae14b7",
   "metadata": {},
   "outputs": [],
   "source": [
    "# 学習させるパラメータ以外は勾配計算をなくし、変化しないように設定\n",
    "for name,param in net_ft1.named_parameters():\n",
    "    print(name)\n",
    "    if update_param_names_1[0] in name:\n",
    "        param.requires_grad = True\n",
    "        param_to_update_1.append(param)\n",
    "    elif name in update_param_names_2:\n",
    "        param.requires_grad = True\n",
    "        param_to_update_2.append(param)\n",
    "    elif name in update_param_names_3:\n",
    "        param.requires_grad = True\n",
    "        param_to_update_3.append(param)\n",
    "    else:\n",
    "        param.requires_grad = False"
   ]
  },
  {
   "cell_type": "code",
   "execution_count": null,
   "id": "7f7af238",
   "metadata": {},
   "outputs": [],
   "source": [
    "num_epochs = 5\n",
    "acc_history_ft1 = {'train': [], 'valid': []}\n",
    "\n",
    "for epoch in range(num_epochs):\n",
    "    print('Epoch {}/{}'.format(epoch, num_epochs - 1))\n",
    "    print('-' * 10)\n",
    "\n",
    "    for phase in ['train', 'valid']:\n",
    "        if phase == 'train':\n",
    "            net_ft1.train()\n",
    "        else:\n",
    "            net_ft1.eval()\n",
    "\n",
    "        running_loss = 0.0\n",
    "        running_corrects = 0\n",
    "\n",
    "        for inputs, labels in dataloaders[phase]:\n",
    "            inputs = inputs.to(device)\n",
    "            labels = labels.to(device)\n",
    "\n",
    "            optimizer.zero_grad()\n",
    "\n",
    "            with torch.set_grad_enabled(phase == 'train'):\n",
    "                outputs = net_ft1(inputs)\n",
    "                _, preds = torch.max(outputs, 1)\n",
    "                loss = criterion(outputs, labels)\n",
    "\n",
    "                \n",
    "                if phase == 'train':\n",
    "                    loss.backward()\n",
    "                    optimizer.step()\n",
    "\n",
    "            running_loss += loss.item() * inputs.size(0)\n",
    "            running_corrects += torch.sum(preds == labels.data)\n",
    "        if phase == 'train':\n",
    "            scheduler.step()\n",
    "\n",
    "        epoch_loss = running_loss / dataset_sizes[phase]\n",
    "        epoch_acc = running_corrects.double() / dataset_sizes[phase]\n",
    "        acc_history_ft1[phase].append(epoch_acc)\n",
    "        print('{} Loss: {:.4f} Acc: {:.4f}'.format(phase, epoch_loss, epoch_acc))"
   ]
  },
  {
   "cell_type": "code",
   "execution_count": null,
   "id": "9466ba35",
   "metadata": {},
   "outputs": [],
   "source": [
    "import matplotlib.pyplot as plt\n",
    "%matplotlib inline\n",
    "\n",
    "plt.style.use('default')\n",
    "\n",
    "\n",
    "fig = plt.figure()\n",
    "ax = fig.add_subplot()\n",
    "ax.plot([a.cpu().numpy() for a in acc_history_ft1['train']], label='train')\n",
    "ax.plot([a.cpu().numpy() for a in acc_history_ft1['valid']],label='valid')\n",
    "ax.legend()\n",
    "ax.set_ylim(0, 1)"
   ]
  },
  {
   "cell_type": "code",
   "execution_count": null,
   "id": "ce38050c",
   "metadata": {},
   "outputs": [],
   "source": [
    "torch.save(net_ft1.state_dict(), 'model_state.pth')"
   ]
  },
  {
   "cell_type": "code",
   "execution_count": null,
   "id": "95adf15b",
   "metadata": {},
   "outputs": [],
   "source": []
  }
 ],
 "metadata": {
  "kernelspec": {
   "display_name": "Python 3 (ipykernel)",
   "language": "python",
   "name": "python3"
  },
  "language_info": {
   "codemirror_mode": {
    "name": "ipython",
    "version": 3
   },
   "file_extension": ".py",
   "mimetype": "text/x-python",
   "name": "python",
   "nbconvert_exporter": "python",
   "pygments_lexer": "ipython3",
   "version": "3.9.7"
  }
 },
 "nbformat": 4,
 "nbformat_minor": 5
}
